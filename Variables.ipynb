{
 "cells": [
  {
   "cell_type": "markdown",
   "id": "36cf645d-fa47-4a03-9d3e-75e803e6fd75",
   "metadata": {},
   "source": [
    "# Variables in Python"
   ]
  },
  {
   "cell_type": "code",
   "execution_count": 11,
   "id": "1e5fb430-67e7-4e17-a448-567c83af68f3",
   "metadata": {},
   "outputs": [
    {
     "name": "stdout",
     "output_type": "stream",
     "text": [
      "22\n"
     ]
    }
   ],
   "source": [
    "x = 22 \n",
    "\n",
    "print(x)"
   ]
  },
  {
   "cell_type": "code",
   "execution_count": 8,
   "id": "8c265f56-6dca-4b9f-8e64-49e164eac4dd",
   "metadata": {},
   "outputs": [
    {
     "data": {
      "text/plain": [
       "int"
      ]
     },
     "execution_count": 8,
     "metadata": {},
     "output_type": "execute_result"
    }
   ],
   "source": [
    "type(x)"
   ]
  },
  {
   "cell_type": "code",
   "execution_count": 9,
   "id": "1243e0fd-4f50-4e9c-bee2-e2fcfd5af415",
   "metadata": {},
   "outputs": [
    {
     "name": "stdout",
     "output_type": "stream",
     "text": [
      "Ice Cream\n"
     ]
    }
   ],
   "source": [
    "y = 'Ice Cream'\n",
    "\n",
    "print(y)"
   ]
  },
  {
   "cell_type": "code",
   "execution_count": 10,
   "id": "34a17963-5d9f-4c42-aa2a-2083d811b1c6",
   "metadata": {},
   "outputs": [
    {
     "data": {
      "text/plain": [
       "str"
      ]
     },
     "execution_count": 10,
     "metadata": {},
     "output_type": "execute_result"
    }
   ],
   "source": [
    "type(y)"
   ]
  },
  {
   "cell_type": "code",
   "execution_count": 13,
   "id": "6bc8119d-d46d-44cd-8176-f16904ff7955",
   "metadata": {},
   "outputs": [
    {
     "name": "stdout",
     "output_type": "stream",
     "text": [
      "Ice Cream\n"
     ]
    }
   ],
   "source": [
    "y = ' Food' \n",
    "\n",
    "y = 'Ice Cream'\n",
    "print(y)\n"
   ]
  },
  {
   "cell_type": "code",
   "execution_count": 14,
   "id": "9184b4ca-a335-4b25-bf8f-96ebe7ae85ef",
   "metadata": {},
   "outputs": [
    {
     "name": "stdout",
     "output_type": "stream",
     "text": [
      "ice cream\n",
      "mint\n",
      "mango\n"
     ]
    }
   ],
   "source": [
    "x,y,z = 'ice cream', 'mint', 'mango'\n",
    "\n",
    "print(x)\n",
    "print(y)\n",
    "print(z)"
   ]
  },
  {
   "cell_type": "code",
   "execution_count": 15,
   "id": "3f8bf09c-b2b2-4bd8-b783-ee3476347b18",
   "metadata": {},
   "outputs": [
    {
     "name": "stdout",
     "output_type": "stream",
     "text": [
      "Root Beer\n",
      "Root Beer\n",
      "Root Beer\n"
     ]
    }
   ],
   "source": [
    "x = y = z = 'Root Beer'  \n",
    "print(x)\n",
    "print(y)\n",
    "print(z)"
   ]
  },
  {
   "cell_type": "code",
   "execution_count": 18,
   "id": "26609096-0b6e-4b76-a4bb-03cc42e948b3",
   "metadata": {},
   "outputs": [
    {
     "name": "stdout",
     "output_type": "stream",
     "text": [
      "ice cream\n",
      "mint\n",
      "mango\n",
      "['ice cream', 'mint', 'mango']\n"
     ]
    }
   ],
   "source": [
    "ice_cream = [ 'ice cream', 'mint', 'mango' ]\n",
    "x, y, z = ice_cream\n",
    "print(x)\n",
    "print(y)\n",
    "print(z)\n",
    "print(ice_cream)"
   ]
  },
  {
   "cell_type": "markdown",
   "id": "cbc9b30b-d302-482d-b2a1-03dfb7e93e3e",
   "metadata": {},
   "source": [
    "# naming vars "
   ]
  },
  {
   "cell_type": "code",
   "execution_count": null,
   "id": "1a3e0c5a-44af-46c3-898e-573ab2280a7f",
   "metadata": {},
   "outputs": [],
   "source": [
    "# camel case \n",
    "testVariableCase = 'coconut' "
   ]
  },
  {
   "cell_type": "code",
   "execution_count": null,
   "id": "d57c1738-f948-4175-8f69-006d46106752",
   "metadata": {},
   "outputs": [],
   "source": [
    "# pascal case \n",
    "TestVariableCase = 'coconut' "
   ]
  },
  {
   "cell_type": "code",
   "execution_count": null,
   "id": "fdeeb831-5324-4715-8f53-fc5053ea105c",
   "metadata": {},
   "outputs": [],
   "source": [
    "# snake case \n",
    "test_variable_case = 'coconut' "
   ]
  },
  {
   "cell_type": "code",
   "execution_count": null,
   "id": "cfc94f27-769c-436e-a544-1682063aa55c",
   "metadata": {},
   "outputs": [],
   "source": [
    "# good naming \n",
    "testvar = \n",
    "test_var = \n",
    "_test_var = \n",
    "testVar = \n",
    "TestVar = \n",
    "testVar2 = "
   ]
  },
  {
   "cell_type": "code",
   "execution_count": null,
   "id": "8a2780a5-0e20-4ab2-aacc-cd91122447db",
   "metadata": {},
   "outputs": [],
   "source": [
    "# bad and wont work naming \n",
    "2testVar = \n",
    "test-var2 = \n",
    "test var = \n",
    "test,var = "
   ]
  },
  {
   "cell_type": "code",
   "execution_count": 19,
   "id": "e263248f-02f9-477b-8830-f939e4f4d4fa",
   "metadata": {},
   "outputs": [
    {
     "name": "stdout",
     "output_type": "stream",
     "text": [
      "Ice Cream is my fav.\n"
     ]
    }
   ],
   "source": [
    "x = 'Ice Cream is my fav' + '.'\n",
    "\n",
    "print(x)"
   ]
  },
  {
   "cell_type": "code",
   "execution_count": 20,
   "id": "b3c51ab2-df25-439e-869e-db554ae90e80",
   "metadata": {},
   "outputs": [
    {
     "name": "stdout",
     "output_type": "stream",
     "text": [
      "5\n"
     ]
    }
   ],
   "source": [
    "y = 3 + 2 \n",
    "\n",
    "print(y)"
   ]
  },
  {
   "cell_type": "code",
   "execution_count": 22,
   "id": "d277596b-81b0-4810-a50e-af84ccf3f45e",
   "metadata": {},
   "outputs": [
    {
     "name": "stdout",
     "output_type": "stream",
     "text": [
      "Ice Cream is my fav.\n"
     ]
    }
   ],
   "source": [
    "x = 'Ice Cream' \n",
    "y = ' is' \n",
    "z = ' my fav.'\n",
    "\n",
    "print(x + y + z)"
   ]
  },
  {
   "cell_type": "code",
   "execution_count": 24,
   "id": "2160e4f3-7c9f-42f3-913d-27a2a26de626",
   "metadata": {},
   "outputs": [
    {
     "name": "stdout",
     "output_type": "stream",
     "text": [
      "Ice Cream 2\n"
     ]
    }
   ],
   "source": [
    "x = 'Ice Cream' \n",
    "y = 2\n",
    "\n",
    "print(x , y)"
   ]
  },
  {
   "cell_type": "code",
   "execution_count": null,
   "id": "e2f0acd5-3221-4a40-bf29-2a9191cc2078",
   "metadata": {},
   "outputs": [],
   "source": []
  },
  {
   "cell_type": "code",
   "execution_count": null,
   "id": "8ebec83c-df69-4ad1-9e4b-ab26df6352b1",
   "metadata": {},
   "outputs": [],
   "source": []
  },
  {
   "cell_type": "code",
   "execution_count": null,
   "id": "7df099ba-13c4-4575-be55-317a9f9a1001",
   "metadata": {},
   "outputs": [],
   "source": []
  },
  {
   "cell_type": "code",
   "execution_count": null,
   "id": "fe84708b-8a59-47af-a8ae-7e05756e982c",
   "metadata": {},
   "outputs": [],
   "source": []
  },
  {
   "cell_type": "code",
   "execution_count": null,
   "id": "6436fe4a-ed33-43da-b955-c6eb245ef6f3",
   "metadata": {},
   "outputs": [],
   "source": []
  },
  {
   "cell_type": "code",
   "execution_count": null,
   "id": "047813cf-3a0d-4b78-8d5d-165aeb26baa6",
   "metadata": {},
   "outputs": [],
   "source": []
  }
 ],
 "metadata": {
  "kernelspec": {
   "display_name": "Python 3 (ipykernel)",
   "language": "python",
   "name": "python3"
  },
  "language_info": {
   "codemirror_mode": {
    "name": "ipython",
    "version": 3
   },
   "file_extension": ".py",
   "mimetype": "text/x-python",
   "name": "python",
   "nbconvert_exporter": "python",
   "pygments_lexer": "ipython3",
   "version": "3.11.7"
  }
 },
 "nbformat": 4,
 "nbformat_minor": 5
}
