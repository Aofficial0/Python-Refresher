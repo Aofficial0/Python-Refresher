{
 "cells": [
  {
   "cell_type": "markdown",
   "id": "90080aec-b85d-4c55-84d2-6796ab33bc44",
   "metadata": {},
   "source": [
    "# Functions"
   ]
  },
  {
   "cell_type": "code",
   "execution_count": 2,
   "id": "bf6c6178-1cbe-4f30-9731-aaadd12c7f3f",
   "metadata": {},
   "outputs": [],
   "source": [
    "def first_func():\n",
    "     print('we did it')"
   ]
  },
  {
   "cell_type": "code",
   "execution_count": 4,
   "id": "3ce9dcf7-e4e2-410b-8cb2-cf8bac0483bf",
   "metadata": {},
   "outputs": [
    {
     "name": "stdout",
     "output_type": "stream",
     "text": [
      "we did it\n"
     ]
    }
   ],
   "source": [
    "first_func()"
   ]
  },
  {
   "cell_type": "code",
   "execution_count": null,
   "id": "c2f258cf-21cc-4b08-b5b1-d1cf54af947b",
   "metadata": {},
   "outputs": [],
   "source": []
  },
  {
   "cell_type": "code",
   "execution_count": 6,
   "id": "59c14f3f-e139-4c52-b0f7-af0b066c40e6",
   "metadata": {},
   "outputs": [],
   "source": [
    "def number_squared(number):\n",
    "    print(number**2)"
   ]
  },
  {
   "cell_type": "code",
   "execution_count": 8,
   "id": "5ed7a4ed-103e-43d8-a2eb-b967575e8194",
   "metadata": {},
   "outputs": [
    {
     "name": "stdout",
     "output_type": "stream",
     "text": [
      "25\n"
     ]
    }
   ],
   "source": [
    "number_squared(5)"
   ]
  },
  {
   "cell_type": "code",
   "execution_count": null,
   "id": "25e9f11f-25ec-4720-a9aa-11dd6e1dbd9b",
   "metadata": {},
   "outputs": [],
   "source": []
  },
  {
   "cell_type": "code",
   "execution_count": 9,
   "id": "6a99e7e1-3826-48d1-929d-7b16a28e264f",
   "metadata": {},
   "outputs": [],
   "source": [
    "def number_squared_cust(number,power):\n",
    "    print(number**power)"
   ]
  },
  {
   "cell_type": "code",
   "execution_count": 10,
   "id": "e6caaaba-ac18-4b81-ab75-a01982008695",
   "metadata": {},
   "outputs": [
    {
     "name": "stdout",
     "output_type": "stream",
     "text": [
      "125\n"
     ]
    }
   ],
   "source": [
    "number_squared_cust(5,3)"
   ]
  },
  {
   "cell_type": "code",
   "execution_count": null,
   "id": "1d260d54-c447-4288-90c3-31eccc4f42fc",
   "metadata": {},
   "outputs": [],
   "source": []
  },
  {
   "cell_type": "code",
   "execution_count": 19,
   "id": "f62d13f3-fee3-4059-a5c5-c41a606d0ef0",
   "metadata": {},
   "outputs": [],
   "source": [
    "args_tuple = (5,6,1,2,8)\n",
    "\n",
    "def number_args(*number):\n",
    "    print(number[0]*number[1])"
   ]
  },
  {
   "cell_type": "code",
   "execution_count": 18,
   "id": "98fde89c-3230-46c9-bd2e-a830bdb12023",
   "metadata": {},
   "outputs": [
    {
     "name": "stdout",
     "output_type": "stream",
     "text": [
      "30\n"
     ]
    }
   ],
   "source": [
    "number_args(*args_tuple)"
   ]
  },
  {
   "cell_type": "code",
   "execution_count": null,
   "id": "a57f79a3-b71a-4496-b929-50e42517c085",
   "metadata": {},
   "outputs": [],
   "source": []
  },
  {
   "cell_type": "code",
   "execution_count": null,
   "id": "ae253f01-0e79-4046-a6b3-9ec67b55c704",
   "metadata": {},
   "outputs": [],
   "source": []
  },
  {
   "cell_type": "code",
   "execution_count": 20,
   "id": "cc29eaf8-be51-412b-9ecc-3b2a9a163137",
   "metadata": {},
   "outputs": [],
   "source": [
    "def number_squared(number):\n",
    "    print(number**power)"
   ]
  },
  {
   "cell_type": "code",
   "execution_count": 22,
   "id": "ce4d7bf7-e249-4528-8b46-d5ac16b95daf",
   "metadata": {},
   "outputs": [
    {
     "name": "stdout",
     "output_type": "stream",
     "text": [
      "243\n"
     ]
    }
   ],
   "source": [
    "number_squared_cust(power = 5,number = 3)"
   ]
  },
  {
   "cell_type": "code",
   "execution_count": null,
   "id": "039dea9d-3e42-4338-ae92-36fb0bde548c",
   "metadata": {},
   "outputs": [],
   "source": []
  },
  {
   "cell_type": "code",
   "execution_count": 34,
   "id": "6cd92664-c17c-485f-8f2e-dd8ca3023347",
   "metadata": {},
   "outputs": [],
   "source": [
    "def number_kwarg(**number):\n",
    "    print('my number is: ' + number['integer'] + ' my other number: ' +number['integer2'])"
   ]
  },
  {
   "cell_type": "code",
   "execution_count": 35,
   "id": "433b50f7-3591-4dcc-98e7-88b3699fdb25",
   "metadata": {},
   "outputs": [
    {
     "name": "stdout",
     "output_type": "stream",
     "text": [
      "my number is: 2309 my other number: 495\n"
     ]
    }
   ],
   "source": [
    "number_kwarg(integer = '2309', integer2 = '495')"
   ]
  },
  {
   "cell_type": "code",
   "execution_count": null,
   "id": "d761ca2d-2b59-4c53-90fb-8ce0264d1c20",
   "metadata": {},
   "outputs": [],
   "source": []
  },
  {
   "cell_type": "code",
   "execution_count": null,
   "id": "a9c6f7da-9d57-482e-8d1c-23c4f1e16061",
   "metadata": {},
   "outputs": [],
   "source": []
  },
  {
   "cell_type": "code",
   "execution_count": null,
   "id": "eac5e469-9a20-4acf-a804-0d653c681e65",
   "metadata": {},
   "outputs": [],
   "source": []
  },
  {
   "cell_type": "code",
   "execution_count": null,
   "id": "3aee9a1b-ce37-4629-9697-2c1c57c3c438",
   "metadata": {},
   "outputs": [],
   "source": []
  }
 ],
 "metadata": {
  "kernelspec": {
   "display_name": "Python 3 (ipykernel)",
   "language": "python",
   "name": "python3"
  },
  "language_info": {
   "codemirror_mode": {
    "name": "ipython",
    "version": 3
   },
   "file_extension": ".py",
   "mimetype": "text/x-python",
   "name": "python",
   "nbconvert_exporter": "python",
   "pygments_lexer": "ipython3",
   "version": "3.11.7"
  }
 },
 "nbformat": 4,
 "nbformat_minor": 5
}
