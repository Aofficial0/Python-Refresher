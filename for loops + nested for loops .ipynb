{
 "cells": [
  {
   "cell_type": "markdown",
   "id": "21437382-f6ab-4387-a5f9-e076a58a6d9e",
   "metadata": {},
   "source": [
    "# for loops"
   ]
  },
  {
   "cell_type": "code",
   "execution_count": 2,
   "id": "ddca1fe2-0744-482b-a670-e0e32fa3d847",
   "metadata": {},
   "outputs": [],
   "source": [
    "integers = [1,2,3,4,5]"
   ]
  },
  {
   "cell_type": "code",
   "execution_count": 4,
   "id": "9a42bc8d-ce7f-4970-9c2f-7a2eaf898f6a",
   "metadata": {},
   "outputs": [
    {
     "name": "stdout",
     "output_type": "stream",
     "text": [
      "1\n",
      "2\n",
      "3\n",
      "4\n",
      "5\n"
     ]
    }
   ],
   "source": [
    "for number in integers: \n",
    "    print(number)"
   ]
  },
  {
   "cell_type": "code",
   "execution_count": 5,
   "id": "ab307ef8-6825-4892-ac5b-d1f9958bfc15",
   "metadata": {},
   "outputs": [
    {
     "name": "stdout",
     "output_type": "stream",
     "text": [
      "YEP\n",
      "YEP\n",
      "YEP\n",
      "YEP\n",
      "YEP\n"
     ]
    }
   ],
   "source": [
    "for number in integers: \n",
    "    print('YEP')"
   ]
  },
  {
   "cell_type": "code",
   "execution_count": 7,
   "id": "60cd150b-0b32-4c3f-8183-68bb640adb61",
   "metadata": {},
   "outputs": [],
   "source": [
    "integers = [1,2,3,4,5]"
   ]
  },
  {
   "cell_type": "code",
   "execution_count": 13,
   "id": "9bd6b1a0-bc3e-451c-928a-304416046326",
   "metadata": {},
   "outputs": [
    {
     "name": "stdout",
     "output_type": "stream",
     "text": [
      "2\n",
      "4\n",
      "6\n",
      "8\n",
      "10\n"
     ]
    }
   ],
   "source": [
    "for jelly in integers: \n",
    "    print(jelly + jelly)"
   ]
  },
  {
   "cell_type": "code",
   "execution_count": null,
   "id": "2f1f636e-849e-41a1-8492-1d42a651375f",
   "metadata": {},
   "outputs": [],
   "source": []
  },
  {
   "cell_type": "code",
   "execution_count": 15,
   "id": "7dcfb627-ab09-4572-9d33-67bc5e4dd564",
   "metadata": {},
   "outputs": [],
   "source": [
    "ice_cream = {'name': 'ahmed', 'weekly intake': 5 , 'fave ice cream': ['mango','coconut'] }"
   ]
  },
  {
   "cell_type": "code",
   "execution_count": 18,
   "id": "2ae91cd5-4f24-4f12-a54b-98ce76a53d9a",
   "metadata": {},
   "outputs": [
    {
     "name": "stdout",
     "output_type": "stream",
     "text": [
      "ahmed\n",
      "5\n",
      "['mango', 'coconut']\n"
     ]
    }
   ],
   "source": [
    "for cream in ice_cream.values():\n",
    "    print(cream)"
   ]
  },
  {
   "cell_type": "code",
   "execution_count": 20,
   "id": "7780345f-d2ce-47b0-b957-9e2638f6cf8e",
   "metadata": {},
   "outputs": [
    {
     "name": "stdout",
     "output_type": "stream",
     "text": [
      "name -> ahmed\n",
      "weekly intake -> 5\n",
      "fave ice cream -> ['mango', 'coconut']\n"
     ]
    }
   ],
   "source": [
    "for key, value in ice_cream.items():\n",
    "    print(key, '->', value)"
   ]
  },
  {
   "cell_type": "code",
   "execution_count": null,
   "id": "1178092a-e85e-4004-94e2-7e148bcdf8eb",
   "metadata": {},
   "outputs": [],
   "source": []
  },
  {
   "cell_type": "markdown",
   "id": "ec6e9e23-86a8-4b3a-97e3-52a719885866",
   "metadata": {},
   "source": [
    "# nested for loops"
   ]
  },
  {
   "cell_type": "code",
   "execution_count": null,
   "id": "ceb439b6-cea0-4a22-9abb-6d75324c912e",
   "metadata": {},
   "outputs": [],
   "source": []
  },
  {
   "cell_type": "code",
   "execution_count": 21,
   "id": "fc1a3264-25f3-4016-95a1-c4a72bbe38e0",
   "metadata": {},
   "outputs": [],
   "source": [
    "flavours = ['mint', 'mango', 'cocount', 'banana']\n",
    "toppings = ['hot fudge', 'oreos', 'marshamllow']"
   ]
  },
  {
   "cell_type": "code",
   "execution_count": 22,
   "id": "9990cdca-0b36-47e0-a7b2-428ca8fd3cb5",
   "metadata": {},
   "outputs": [
    {
     "name": "stdout",
     "output_type": "stream",
     "text": [
      "mint topped with hot fudge\n",
      "mint topped with oreos\n",
      "mint topped with marshamllow\n",
      "mango topped with hot fudge\n",
      "mango topped with oreos\n",
      "mango topped with marshamllow\n",
      "cocount topped with hot fudge\n",
      "cocount topped with oreos\n",
      "cocount topped with marshamllow\n",
      "banana topped with hot fudge\n",
      "banana topped with oreos\n",
      "banana topped with marshamllow\n"
     ]
    }
   ],
   "source": [
    "for one in flavours:\n",
    "    for two in toppings:\n",
    "        print(one, 'topped with', two)"
   ]
  },
  {
   "cell_type": "code",
   "execution_count": null,
   "id": "2c744180-acbe-4c8e-8a02-cfd9cd066069",
   "metadata": {},
   "outputs": [],
   "source": []
  },
  {
   "cell_type": "code",
   "execution_count": null,
   "id": "953f1ea0-7977-4459-92eb-35c3221c20df",
   "metadata": {},
   "outputs": [],
   "source": []
  }
 ],
 "metadata": {
  "kernelspec": {
   "display_name": "Python 3 (ipykernel)",
   "language": "python",
   "name": "python3"
  },
  "language_info": {
   "codemirror_mode": {
    "name": "ipython",
    "version": 3
   },
   "file_extension": ".py",
   "mimetype": "text/x-python",
   "name": "python",
   "nbconvert_exporter": "python",
   "pygments_lexer": "ipython3",
   "version": "3.11.7"
  }
 },
 "nbformat": 4,
 "nbformat_minor": 5
}
