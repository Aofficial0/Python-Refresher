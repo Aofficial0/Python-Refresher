{
 "cells": [
  {
   "cell_type": "markdown",
   "id": "4311ac27-d62e-46fa-8492-902558d4f09a",
   "metadata": {},
   "source": [
    "# Converting Data Types"
   ]
  },
  {
   "cell_type": "code",
   "execution_count": 1,
   "id": "708b1950-9ded-4d6d-9549-59f430319450",
   "metadata": {},
   "outputs": [
    {
     "data": {
      "text/plain": [
       "int"
      ]
     },
     "execution_count": 1,
     "metadata": {},
     "output_type": "execute_result"
    }
   ],
   "source": [
    "num_int = 7 \n",
    "\n",
    "type(num_int)"
   ]
  },
  {
   "cell_type": "code",
   "execution_count": 2,
   "id": "f0ac4bd2-6638-4798-a43b-a737542b6047",
   "metadata": {},
   "outputs": [
    {
     "data": {
      "text/plain": [
       "str"
      ]
     },
     "execution_count": 2,
     "metadata": {},
     "output_type": "execute_result"
    }
   ],
   "source": [
    "num_str = '7'\n",
    "\n",
    "type(num_str)"
   ]
  },
  {
   "cell_type": "code",
   "execution_count": 5,
   "id": "01ae114b-23ff-4a1d-bc0e-659c35855d16",
   "metadata": {},
   "outputs": [
    {
     "data": {
      "text/plain": [
       "int"
      ]
     },
     "execution_count": 5,
     "metadata": {},
     "output_type": "execute_result"
    }
   ],
   "source": [
    "num_str_conv = int(num_str)\n",
    "\n",
    "type(num_str_conv)"
   ]
  },
  {
   "cell_type": "code",
   "execution_count": 8,
   "id": "ad873467-81ec-4097-a97d-56025accc85d",
   "metadata": {},
   "outputs": [
    {
     "name": "stdout",
     "output_type": "stream",
     "text": [
      "14\n"
     ]
    }
   ],
   "source": [
    "num_sum = num_int + num_str_conv\n",
    "\n",
    "print(num_sum)"
   ]
  },
  {
   "cell_type": "code",
   "execution_count": 9,
   "id": "c7439f7c-4178-4008-b679-089c0db30985",
   "metadata": {},
   "outputs": [
    {
     "data": {
      "text/plain": [
       "int"
      ]
     },
     "execution_count": 9,
     "metadata": {},
     "output_type": "execute_result"
    }
   ],
   "source": [
    "type(num_sum)"
   ]
  },
  {
   "cell_type": "code",
   "execution_count": null,
   "id": "61188b5c-04ba-4fb3-bdac-a658ea53b446",
   "metadata": {},
   "outputs": [],
   "source": []
  },
  {
   "cell_type": "code",
   "execution_count": 10,
   "id": "2ca0a5d4-1929-488d-85c9-c90b5984ac01",
   "metadata": {},
   "outputs": [
    {
     "data": {
      "text/plain": [
       "list"
      ]
     },
     "execution_count": 10,
     "metadata": {},
     "output_type": "execute_result"
    }
   ],
   "source": [
    "list_type = [1,2,3]\n",
    "\n",
    "type(list_type)"
   ]
  },
  {
   "cell_type": "code",
   "execution_count": 11,
   "id": "d36a9c91-e5df-46de-9a72-89f422a471f6",
   "metadata": {},
   "outputs": [
    {
     "data": {
      "text/plain": [
       "(1, 2, 3)"
      ]
     },
     "execution_count": 11,
     "metadata": {},
     "output_type": "execute_result"
    }
   ],
   "source": [
    "tuple(list_type)"
   ]
  },
  {
   "cell_type": "code",
   "execution_count": 13,
   "id": "6fd3748a-5511-43c7-bf4d-7b2b1481e648",
   "metadata": {},
   "outputs": [],
   "source": [
    "list_type = [1,2,3,3,2,1,2,3,2,1]"
   ]
  },
  {
   "cell_type": "code",
   "execution_count": 14,
   "id": "a8358db0-5749-4ff6-a2a1-1262fbd00526",
   "metadata": {},
   "outputs": [
    {
     "data": {
      "text/plain": [
       "{1, 2, 3}"
      ]
     },
     "execution_count": 14,
     "metadata": {},
     "output_type": "execute_result"
    }
   ],
   "source": [
    "set(list_type)"
   ]
  },
  {
   "cell_type": "code",
   "execution_count": null,
   "id": "8b96c467-3bf7-4f5d-929f-ecdbbd29e373",
   "metadata": {},
   "outputs": [],
   "source": []
  },
  {
   "cell_type": "code",
   "execution_count": 15,
   "id": "16d16763-6490-4137-993d-be352861f36c",
   "metadata": {},
   "outputs": [
    {
     "data": {
      "text/plain": [
       "dict"
      ]
     },
     "execution_count": 15,
     "metadata": {},
     "output_type": "execute_result"
    }
   ],
   "source": [
    "dict_type = {'name': 'ahmed','age': 28, 'hair': 'N/A'}\n",
    "\n",
    "type(dict_type)"
   ]
  },
  {
   "cell_type": "code",
   "execution_count": 16,
   "id": "abb5012c-38d9-4496-8ae2-90965369ecc6",
   "metadata": {},
   "outputs": [
    {
     "data": {
      "text/plain": [
       "dict_items([('name', 'ahmed'), ('age', 28), ('hair', 'N/A')])"
      ]
     },
     "execution_count": 16,
     "metadata": {},
     "output_type": "execute_result"
    }
   ],
   "source": [
    "dict_type.items()"
   ]
  },
  {
   "cell_type": "code",
   "execution_count": 17,
   "id": "497b5d96-6813-40c0-88b4-427584b00ca2",
   "metadata": {},
   "outputs": [
    {
     "data": {
      "text/plain": [
       "dict_values(['ahmed', 28, 'N/A'])"
      ]
     },
     "execution_count": 17,
     "metadata": {},
     "output_type": "execute_result"
    }
   ],
   "source": [
    "dict_type.values()"
   ]
  },
  {
   "cell_type": "code",
   "execution_count": 18,
   "id": "e5bb0b36-cadf-4faf-9163-06da71621a69",
   "metadata": {},
   "outputs": [
    {
     "data": {
      "text/plain": [
       "dict_keys(['name', 'age', 'hair'])"
      ]
     },
     "execution_count": 18,
     "metadata": {},
     "output_type": "execute_result"
    }
   ],
   "source": [
    "dict_type.keys()"
   ]
  },
  {
   "cell_type": "code",
   "execution_count": 20,
   "id": "863597df-8079-495a-9208-1c4a150870c9",
   "metadata": {},
   "outputs": [
    {
     "data": {
      "text/plain": [
       "list"
      ]
     },
     "execution_count": 20,
     "metadata": {},
     "output_type": "execute_result"
    }
   ],
   "source": [
    "type(list(dict_type.keys()))"
   ]
  },
  {
   "cell_type": "code",
   "execution_count": null,
   "id": "901b6165-8923-4ed6-8e7e-d96715652bd3",
   "metadata": {},
   "outputs": [],
   "source": []
  },
  {
   "cell_type": "code",
   "execution_count": null,
   "id": "3cef5c2e-a43c-4f87-b8db-40c5f2c585ea",
   "metadata": {},
   "outputs": [],
   "source": []
  },
  {
   "cell_type": "code",
   "execution_count": 24,
   "id": "cb8c8f1d-c268-4f23-8919-ce60a92e9314",
   "metadata": {},
   "outputs": [
    {
     "data": {
      "text/plain": [
       "{' ', 'a', 'e', 'i', 'k', 'l', 'o', 'p', 'r', 't', 'y'}"
      ]
     },
     "execution_count": 24,
     "metadata": {},
     "output_type": "execute_result"
    }
   ],
   "source": [
    "long_str = \"i like to party\"\n",
    "\n",
    "set(long_str)"
   ]
  },
  {
   "cell_type": "code",
   "execution_count": null,
   "id": "7cb223d7-e719-4809-9db7-94d0f4531134",
   "metadata": {},
   "outputs": [],
   "source": []
  },
  {
   "cell_type": "code",
   "execution_count": null,
   "id": "fd794c76-6692-47ad-a5d7-4f6bad7156b7",
   "metadata": {},
   "outputs": [],
   "source": []
  },
  {
   "cell_type": "code",
   "execution_count": null,
   "id": "402a1941-cead-4dca-abc1-187fa6b35fd8",
   "metadata": {},
   "outputs": [],
   "source": []
  },
  {
   "cell_type": "code",
   "execution_count": null,
   "id": "dfc79f84-4852-4f90-a5e1-b797cadd1a95",
   "metadata": {},
   "outputs": [],
   "source": []
  },
  {
   "cell_type": "code",
   "execution_count": null,
   "id": "0e8d4a36-b594-4fb3-bae3-eff20df82786",
   "metadata": {},
   "outputs": [],
   "source": []
  },
  {
   "cell_type": "code",
   "execution_count": null,
   "id": "32a9587a-381c-4058-8b84-1055b113c5b7",
   "metadata": {},
   "outputs": [],
   "source": []
  }
 ],
 "metadata": {
  "kernelspec": {
   "display_name": "Python 3 (ipykernel)",
   "language": "python",
   "name": "python3"
  },
  "language_info": {
   "codemirror_mode": {
    "name": "ipython",
    "version": 3
   },
   "file_extension": ".py",
   "mimetype": "text/x-python",
   "name": "python",
   "nbconvert_exporter": "python",
   "pygments_lexer": "ipython3",
   "version": "3.11.7"
  }
 },
 "nbformat": 4,
 "nbformat_minor": 5
}
