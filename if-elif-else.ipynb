{
 "cells": [
  {
   "cell_type": "code",
   "execution_count": null,
   "id": "8a3c8c7a-00d8-4fff-b632-d935d357c34b",
   "metadata": {},
   "outputs": [],
   "source": [
    "# if \n",
    "# elif \n",
    "#else "
   ]
  },
  {
   "cell_type": "code",
   "execution_count": 1,
   "id": "f02d93c7-d0d4-4ce7-8c14-25dd1d181525",
   "metadata": {},
   "outputs": [
    {
     "name": "stdout",
     "output_type": "stream",
     "text": [
      "it worked!\n"
     ]
    }
   ],
   "source": [
    "if 25 > 10 :\n",
    "    print('it worked!')"
   ]
  },
  {
   "cell_type": "code",
   "execution_count": 4,
   "id": "4aaea400-18f1-4702-b6ff-fe6f862bbc89",
   "metadata": {},
   "outputs": [
    {
     "name": "stdout",
     "output_type": "stream",
     "text": [
      "it worked!\n"
     ]
    }
   ],
   "source": [
    "if 25 > 10 :\n",
    "    print('it worked!')\n",
    "else: \n",
    "    print('it didnt work .. ')"
   ]
  },
  {
   "cell_type": "code",
   "execution_count": 9,
   "id": "ac149186-1d0a-4bae-a2a1-c55d588b6450",
   "metadata": {},
   "outputs": [
    {
     "name": "stdout",
     "output_type": "stream",
     "text": [
      "it worked!\n"
     ]
    }
   ],
   "source": [
    "if (25 < 10) or (1<3):\n",
    "    print('it worked!')\n",
    "elif 25 < 20:\n",
    "    print('elif worked!')\n",
    "elif 25 < 21:\n",
    "    print('elif2 worked!')\n",
    "elif 25 < 40:\n",
    "    print('elif3 worked!')\n",
    "elif 25 < 50:\n",
    "    print('elif4 worked!')\n",
    "elif 25 < 55:\n",
    "    print('elif5 worked!')\n",
    "else: \n",
    "    print('it didnt work .. ')"
   ]
  },
  {
   "cell_type": "code",
   "execution_count": 10,
   "id": "98a6b645-ffad-4ce4-805b-3b2343a98f6b",
   "metadata": {},
   "outputs": [
    {
     "name": "stdout",
     "output_type": "stream",
     "text": [
      "it didnt work\n"
     ]
    }
   ],
   "source": [
    "print('it worked!') if 10>30 else print('it didnt work')"
   ]
  },
  {
   "cell_type": "code",
   "execution_count": 11,
   "id": "5d1b6504-4e95-4fdb-bb5e-5f17d395d531",
   "metadata": {},
   "outputs": [
    {
     "name": "stdout",
     "output_type": "stream",
     "text": [
      "it worked!\n",
      "this nest worked\n"
     ]
    }
   ],
   "source": [
    "if (25 < 10) or (1<3):\n",
    "    print('it worked!')\n",
    "    if 10 > 5:\n",
    "        print('this nest worked')\n",
    "elif 25 < 20:\n",
    "    print('elif worked!')\n",
    "elif 25 < 21:\n",
    "    print('elif2 worked!')\n",
    "elif 25 < 40:\n",
    "    print('elif3 worked!')\n",
    "elif 25 < 50:\n",
    "    print('elif4 worked!')\n",
    "elif 25 < 55:\n",
    "    print('elif5 worked!')\n",
    "else: \n",
    "    print('it didnt work .. ')"
   ]
  },
  {
   "cell_type": "code",
   "execution_count": null,
   "id": "03048fea-481f-4ba7-99c6-5c6c73790281",
   "metadata": {},
   "outputs": [],
   "source": []
  },
  {
   "cell_type": "code",
   "execution_count": null,
   "id": "5526fe19-cadf-405b-91b7-91e7dbfc8a91",
   "metadata": {},
   "outputs": [],
   "source": []
  },
  {
   "cell_type": "code",
   "execution_count": null,
   "id": "a64b56da-ff33-494a-859b-9fa110d31769",
   "metadata": {},
   "outputs": [],
   "source": []
  },
  {
   "cell_type": "code",
   "execution_count": null,
   "id": "cb614146-1c57-4ff0-a3fa-0112bc5548a9",
   "metadata": {},
   "outputs": [],
   "source": []
  },
  {
   "cell_type": "code",
   "execution_count": null,
   "id": "4f024eb2-1e43-4a30-97d7-33b04048951d",
   "metadata": {},
   "outputs": [],
   "source": []
  },
  {
   "cell_type": "code",
   "execution_count": null,
   "id": "615b8e06-b9c1-4752-8d48-91dd04d129b2",
   "metadata": {},
   "outputs": [],
   "source": []
  }
 ],
 "metadata": {
  "kernelspec": {
   "display_name": "Python 3 (ipykernel)",
   "language": "python",
   "name": "python3"
  },
  "language_info": {
   "codemirror_mode": {
    "name": "ipython",
    "version": 3
   },
   "file_extension": ".py",
   "mimetype": "text/x-python",
   "name": "python",
   "nbconvert_exporter": "python",
   "pygments_lexer": "ipython3",
   "version": "3.11.7"
  }
 },
 "nbformat": 4,
 "nbformat_minor": 5
}
