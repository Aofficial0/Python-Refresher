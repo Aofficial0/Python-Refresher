{
 "cells": [
  {
   "cell_type": "markdown",
   "id": "3bc9380f-c2e0-42b3-9103-a7b2760ca7d3",
   "metadata": {},
   "source": [
    "# comparsion operators"
   ]
  },
  {
   "cell_type": "code",
   "execution_count": 1,
   "id": "a7c77217-0d37-4633-bb25-1615ef01cdd7",
   "metadata": {},
   "outputs": [],
   "source": [
    "# == equal\n",
    "# != not equal\n",
    "# > greater than\n",
    "# <  less than\n",
    "# >=  greater than ot equal to\n",
    "# <=   less than ot equal to"
   ]
  },
  {
   "cell_type": "code",
   "execution_count": 5,
   "id": "daa562ba-7245-47da-9253-5981ffcc4840",
   "metadata": {},
   "outputs": [
    {
     "data": {
      "text/plain": [
       "True"
      ]
     },
     "execution_count": 5,
     "metadata": {},
     "output_type": "execute_result"
    }
   ],
   "source": [
    "10 == 10 "
   ]
  },
  {
   "cell_type": "code",
   "execution_count": 6,
   "id": "951db4eb-220f-47cb-ad39-c3e734b3827b",
   "metadata": {},
   "outputs": [
    {
     "data": {
      "text/plain": [
       "True"
      ]
     },
     "execution_count": 6,
     "metadata": {},
     "output_type": "execute_result"
    }
   ],
   "source": [
    "10 != 50 "
   ]
  },
  {
   "cell_type": "code",
   "execution_count": 8,
   "id": "93ff8861-9372-453a-89c9-ca0703a3b467",
   "metadata": {},
   "outputs": [
    {
     "data": {
      "text/plain": [
       "True"
      ]
     },
     "execution_count": 8,
     "metadata": {},
     "output_type": "execute_result"
    }
   ],
   "source": [
    "x = 'mint'\n",
    "y = 'mango' \n",
    "\n",
    "x != y "
   ]
  },
  {
   "cell_type": "code",
   "execution_count": 12,
   "id": "790f3959-8476-49fa-a746-32156bf54d41",
   "metadata": {},
   "outputs": [
    {
     "data": {
      "text/plain": [
       "True"
      ]
     },
     "execution_count": 12,
     "metadata": {},
     "output_type": "execute_result"
    }
   ],
   "source": [
    "50 >= 10 "
   ]
  },
  {
   "cell_type": "markdown",
   "id": "24429c9f-48f4-41df-99c8-14031e438d5d",
   "metadata": {},
   "source": [
    "#  logical operators"
   ]
  },
  {
   "cell_type": "code",
   "execution_count": null,
   "id": "795d792c-1af0-4ee5-9f10-067bd9735527",
   "metadata": {},
   "outputs": [],
   "source": [
    "# and returns true if both statements are true \n",
    "# or returns true if one of the statements is true \n",
    "# not revers the result, returns False if the result is true "
   ]
  },
  {
   "cell_type": "code",
   "execution_count": 14,
   "id": "95dcb32f-88f7-4122-9f02-bb238ea5dda7",
   "metadata": {},
   "outputs": [
    {
     "data": {
      "text/plain": [
       "True"
      ]
     },
     "execution_count": 14,
     "metadata": {},
     "output_type": "execute_result"
    }
   ],
   "source": [
    "( 70 > 50 ) and (50>10)"
   ]
  },
  {
   "cell_type": "code",
   "execution_count": 15,
   "id": "c0d010b0-81ff-4e4b-bd2e-e93d876b5272",
   "metadata": {},
   "outputs": [
    {
     "data": {
      "text/plain": [
       "True"
      ]
     },
     "execution_count": 15,
     "metadata": {},
     "output_type": "execute_result"
    }
   ],
   "source": [
    "(10 > 50) or (50>10)"
   ]
  },
  {
   "cell_type": "code",
   "execution_count": 16,
   "id": "bec86a9f-ec77-4f3a-8a81-1ac1980c05cc",
   "metadata": {},
   "outputs": [
    {
     "data": {
      "text/plain": [
       "False"
      ]
     },
     "execution_count": 16,
     "metadata": {},
     "output_type": "execute_result"
    }
   ],
   "source": [
    "not (50>10)"
   ]
  },
  {
   "cell_type": "markdown",
   "id": "f327f5e3-2876-438e-875d-2dec07ff23d8",
   "metadata": {},
   "source": [
    "#  membership operators"
   ]
  },
  {
   "cell_type": "code",
   "execution_count": null,
   "id": "5a17f6f3-f061-4974-ac4d-f7b5e4e7e26d",
   "metadata": {},
   "outputs": [],
   "source": [
    "# in \n",
    "# not in "
   ]
  },
  {
   "cell_type": "code",
   "execution_count": 17,
   "id": "6eace041-05a0-4126-a4bf-74381a0e0742",
   "metadata": {},
   "outputs": [
    {
     "data": {
      "text/plain": [
       "True"
      ]
     },
     "execution_count": 17,
     "metadata": {},
     "output_type": "execute_result"
    }
   ],
   "source": [
    "ice_cream = 'i love mango' \n",
    "\n",
    "'love' in ice_cream"
   ]
  },
  {
   "cell_type": "code",
   "execution_count": 18,
   "id": "5d5933a2-f791-4b04-81b6-d16657a54ce5",
   "metadata": {},
   "outputs": [
    {
     "data": {
      "text/plain": [
       "True"
      ]
     },
     "execution_count": 18,
     "metadata": {},
     "output_type": "execute_result"
    }
   ],
   "source": [
    "'ice cream' not in ice_cream"
   ]
  },
  {
   "cell_type": "code",
   "execution_count": null,
   "id": "232e514b-ac5e-4b31-bace-73c35e529783",
   "metadata": {},
   "outputs": [],
   "source": [
    "'cocount' in ice_cream "
   ]
  },
  {
   "cell_type": "code",
   "execution_count": null,
   "id": "135a4e55-7460-4152-ba13-f8d55571f7d0",
   "metadata": {},
   "outputs": [],
   "source": []
  },
  {
   "cell_type": "code",
   "execution_count": null,
   "id": "d5b9162e-841e-4698-8ae9-67604e6ee384",
   "metadata": {},
   "outputs": [],
   "source": []
  }
 ],
 "metadata": {
  "kernelspec": {
   "display_name": "Python 3 (ipykernel)",
   "language": "python",
   "name": "python3"
  },
  "language_info": {
   "codemirror_mode": {
    "name": "ipython",
    "version": 3
   },
   "file_extension": ".py",
   "mimetype": "text/x-python",
   "name": "python",
   "nbconvert_exporter": "python",
   "pygments_lexer": "ipython3",
   "version": "3.11.7"
  }
 },
 "nbformat": 4,
 "nbformat_minor": 5
}
