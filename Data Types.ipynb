{
 "cells": [
  {
   "cell_type": "markdown",
   "id": "dbc96bd7-8ed8-4f03-8111-060c6c118c98",
   "metadata": {},
   "source": [
    "# Data Types"
   ]
  },
  {
   "cell_type": "code",
   "execution_count": 2,
   "id": "761162be-6b34-43bc-9e67-08da191adace",
   "metadata": {},
   "outputs": [
    {
     "data": {
      "text/plain": [
       "int"
      ]
     },
     "execution_count": 2,
     "metadata": {},
     "output_type": "execute_result"
    }
   ],
   "source": [
    "type(-12+100)"
   ]
  },
  {
   "cell_type": "code",
   "execution_count": 3,
   "id": "675c8ffb-7d3a-4619-9c17-08cd5f9c3a30",
   "metadata": {},
   "outputs": [
    {
     "data": {
      "text/plain": [
       "float"
      ]
     },
     "execution_count": 3,
     "metadata": {},
     "output_type": "execute_result"
    }
   ],
   "source": [
    "type(12+10.25)"
   ]
  },
  {
   "cell_type": "code",
   "execution_count": 4,
   "id": "cf635876-7183-4543-9e6e-5b8e3328a8c9",
   "metadata": {},
   "outputs": [
    {
     "data": {
      "text/plain": [
       "complex"
      ]
     },
     "execution_count": 4,
     "metadata": {},
     "output_type": "execute_result"
    }
   ],
   "source": [
    "type(12+3j)"
   ]
  },
  {
   "cell_type": "code",
   "execution_count": 8,
   "id": "e53ecef5-cf40-44b7-9a4d-6a8483ecdd16",
   "metadata": {},
   "outputs": [
    {
     "data": {
      "text/plain": [
       "bool"
      ]
     },
     "execution_count": 8,
     "metadata": {},
     "output_type": "execute_result"
    }
   ],
   "source": [
    "# boolean\n",
    "\n",
    "type(True)\n",
    "type(False)"
   ]
  },
  {
   "cell_type": "code",
   "execution_count": 9,
   "id": "99cd43ac-dfb1-4456-8d63-7f50f962059a",
   "metadata": {},
   "outputs": [
    {
     "data": {
      "text/plain": [
       "bool"
      ]
     },
     "execution_count": 9,
     "metadata": {},
     "output_type": "execute_result"
    }
   ],
   "source": [
    "type ( 1 > 5 )"
   ]
  },
  {
   "cell_type": "code",
   "execution_count": 10,
   "id": "4880e019-3305-4c45-ba09-3d8517d6e41d",
   "metadata": {},
   "outputs": [
    {
     "data": {
      "text/plain": [
       "True"
      ]
     },
     "execution_count": 10,
     "metadata": {},
     "output_type": "execute_result"
    }
   ],
   "source": [
    "1 == 1 "
   ]
  },
  {
   "cell_type": "code",
   "execution_count": 12,
   "id": "e8e4321a-8de4-44ef-b454-ab2c2f6ba7c8",
   "metadata": {},
   "outputs": [
    {
     "data": {
      "text/plain": [
       "'single quote'"
      ]
     },
     "execution_count": 12,
     "metadata": {},
     "output_type": "execute_result"
    }
   ],
   "source": [
    "# strings \n",
    "\n",
    "'single quote' "
   ]
  },
  {
   "cell_type": "code",
   "execution_count": 13,
   "id": "82d5a2d9-2f97-459b-8b39-4f5d35829029",
   "metadata": {},
   "outputs": [
    {
     "data": {
      "text/plain": [
       "'double quote'"
      ]
     },
     "execution_count": 13,
     "metadata": {},
     "output_type": "execute_result"
    }
   ],
   "source": [
    "\"double quote\""
   ]
  },
  {
   "cell_type": "code",
   "execution_count": 17,
   "id": "f6f7f300-e71f-41cf-8245-2171d262b4ba",
   "metadata": {},
   "outputs": [],
   "source": [
    "test = \"\"\" \n",
    "the ice cream was good, \n",
    "the mint is the worst, \n",
    "im testing python.\n",
    "\"\"\""
   ]
  },
  {
   "cell_type": "code",
   "execution_count": 18,
   "id": "b2669732-5803-4572-b65b-2455cbc38d27",
   "metadata": {},
   "outputs": [
    {
     "name": "stdout",
     "output_type": "stream",
     "text": [
      " \n",
      "the ice cream was good, \n",
      "the mint is the worst, \n",
      "im testing python.\n",
      "\n"
     ]
    }
   ],
   "source": [
    "print(test)"
   ]
  },
  {
   "cell_type": "code",
   "execution_count": 20,
   "id": "c5a29b3b-55e9-4a6c-9b39-7411cd944797",
   "metadata": {},
   "outputs": [],
   "source": [
    "a = 'Hello World'"
   ]
  },
  {
   "cell_type": "code",
   "execution_count": 22,
   "id": "29f7a47d-6d05-4a2f-baef-451d095e2712",
   "metadata": {},
   "outputs": [
    {
     "name": "stdout",
     "output_type": "stream",
     "text": [
      "Hello\n"
     ]
    }
   ],
   "source": [
    "print(a[:5])"
   ]
  },
  {
   "cell_type": "code",
   "execution_count": 24,
   "id": "583e2a41-5fc2-48b2-b905-8c6569068e1b",
   "metadata": {},
   "outputs": [
    {
     "name": "stdout",
     "output_type": "stream",
     "text": [
      "W\n"
     ]
    }
   ],
   "source": [
    "print(a[6])"
   ]
  },
  {
   "cell_type": "code",
   "execution_count": 25,
   "id": "1201c76b-8691-4e5a-9b4c-f793699d25b1",
   "metadata": {},
   "outputs": [
    {
     "name": "stdout",
     "output_type": "stream",
     "text": [
      "r\n"
     ]
    }
   ],
   "source": [
    "print(a[-3])"
   ]
  },
  {
   "cell_type": "code",
   "execution_count": 26,
   "id": "24257f6b-c5e2-481a-9c53-ce7887f0f6da",
   "metadata": {},
   "outputs": [
    {
     "data": {
      "text/plain": [
       "'Hello WorldHello WorldHello World'"
      ]
     },
     "execution_count": 26,
     "metadata": {},
     "output_type": "execute_result"
    }
   ],
   "source": [
    "a*3"
   ]
  },
  {
   "cell_type": "code",
   "execution_count": 27,
   "id": "e41a6df8-cf15-466a-a657-40440602feac",
   "metadata": {},
   "outputs": [
    {
     "data": {
      "text/plain": [
       "'Hello WorldHello World'"
      ]
     },
     "execution_count": 27,
     "metadata": {},
     "output_type": "execute_result"
    }
   ],
   "source": [
    "a + a"
   ]
  },
  {
   "cell_type": "code",
   "execution_count": 28,
   "id": "05dc24ce-ed72-40af-b28d-90fedbc68946",
   "metadata": {},
   "outputs": [
    {
     "data": {
      "text/plain": [
       "[1, 2, 3]"
      ]
     },
     "execution_count": 28,
     "metadata": {},
     "output_type": "execute_result"
    }
   ],
   "source": [
    "# list \n",
    "\n",
    "[1,2,3]"
   ]
  },
  {
   "cell_type": "code",
   "execution_count": 29,
   "id": "47f8cc5f-8c9b-4191-b31c-76a9077203be",
   "metadata": {},
   "outputs": [
    {
     "data": {
      "text/plain": [
       "['cookie', 'mint', 'mango']"
      ]
     },
     "execution_count": 29,
     "metadata": {},
     "output_type": "execute_result"
    }
   ],
   "source": [
    "['cookie','mint','mango']"
   ]
  },
  {
   "cell_type": "code",
   "execution_count": 30,
   "id": "c7403afe-ee59-4749-a9a9-b4e179c8cd94",
   "metadata": {},
   "outputs": [
    {
     "data": {
      "text/plain": [
       "['mango', 3, ['scoops', 'spoon'], True]"
      ]
     },
     "execution_count": 30,
     "metadata": {},
     "output_type": "execute_result"
    }
   ],
   "source": [
    "['mango',3,['scoops','spoon'],True]"
   ]
  },
  {
   "cell_type": "code",
   "execution_count": 32,
   "id": "5081f6bb-fc3d-437a-a3ea-e6be42254690",
   "metadata": {},
   "outputs": [
    {
     "data": {
      "text/plain": [
       "['cookie', 'mint', 'mango', 'caramel']"
      ]
     },
     "execution_count": 32,
     "metadata": {},
     "output_type": "execute_result"
    }
   ],
   "source": [
    "ice_cream = ['cookie','mint','mango']\n",
    "ice_cream.append('caramel')\n",
    "\n",
    "ice_cream"
   ]
  },
  {
   "cell_type": "code",
   "execution_count": 34,
   "id": "941e7cb9-b5ed-421f-afcf-fc1f92f7f888",
   "metadata": {},
   "outputs": [
    {
     "data": {
      "text/plain": [
       "[' butter', 'mint', 'mango', 'caramel']"
      ]
     },
     "execution_count": 34,
     "metadata": {},
     "output_type": "execute_result"
    }
   ],
   "source": [
    "ice_cream[0] = ' butter'\n",
    "\n",
    "ice_cream"
   ]
  },
  {
   "cell_type": "code",
   "execution_count": 36,
   "id": "cab1b97a-245e-4e92-aba9-8f166e26992c",
   "metadata": {},
   "outputs": [],
   "source": [
    "nest_list = ['mango',3,['scoops','spoon'],True]"
   ]
  },
  {
   "cell_type": "code",
   "execution_count": 37,
   "id": "f0a225bb-71ef-41b5-a322-d6045d5423a3",
   "metadata": {},
   "outputs": [
    {
     "data": {
      "text/plain": [
       "'spoon'"
      ]
     },
     "execution_count": 37,
     "metadata": {},
     "output_type": "execute_result"
    }
   ],
   "source": [
    "nest_list[2][1]"
   ]
  },
  {
   "cell_type": "code",
   "execution_count": 38,
   "id": "fedfd748-2209-4c18-917d-06e963e9b383",
   "metadata": {},
   "outputs": [],
   "source": [
    "# tuple \n",
    "\n",
    "tuple_scoops = (1,2,3,2,1)"
   ]
  },
  {
   "cell_type": "code",
   "execution_count": 39,
   "id": "2ca37dda-3efc-4bca-9001-194973da6364",
   "metadata": {},
   "outputs": [
    {
     "data": {
      "text/plain": [
       "tuple"
      ]
     },
     "execution_count": 39,
     "metadata": {},
     "output_type": "execute_result"
    }
   ],
   "source": [
    "type(tuple_scoops)"
   ]
  },
  {
   "cell_type": "code",
   "execution_count": 40,
   "id": "2460ef59-fc3e-418b-a5a5-d26e86075906",
   "metadata": {},
   "outputs": [
    {
     "data": {
      "text/plain": [
       "1"
      ]
     },
     "execution_count": 40,
     "metadata": {},
     "output_type": "execute_result"
    }
   ],
   "source": [
    "tuple_scoops[0]"
   ]
  },
  {
   "cell_type": "code",
   "execution_count": 41,
   "id": "dcd5adb1-e1d2-4eb1-a278-a65869b95612",
   "metadata": {},
   "outputs": [],
   "source": [
    "# sets \n",
    "\n",
    "daily_pints = {1,2,3}"
   ]
  },
  {
   "cell_type": "code",
   "execution_count": 42,
   "id": "7434280f-73bb-4445-ae71-41a6da75dd93",
   "metadata": {},
   "outputs": [
    {
     "data": {
      "text/plain": [
       "set"
      ]
     },
     "execution_count": 42,
     "metadata": {},
     "output_type": "execute_result"
    }
   ],
   "source": [
    "type(daily_pints)"
   ]
  },
  {
   "cell_type": "code",
   "execution_count": 43,
   "id": "b40e8724-285b-4973-9a36-1ca3d3f8ec96",
   "metadata": {},
   "outputs": [
    {
     "name": "stdout",
     "output_type": "stream",
     "text": [
      "{1, 2, 3}\n"
     ]
    }
   ],
   "source": [
    "print(daily_pints)"
   ]
  },
  {
   "cell_type": "code",
   "execution_count": 45,
   "id": "9e6ea8ef-d1c8-43d7-b4a9-767031a7eb40",
   "metadata": {},
   "outputs": [
    {
     "name": "stdout",
     "output_type": "stream",
     "text": [
      "{1, 2, 3, 4, 5, 6, 7, 23}\n"
     ]
    }
   ],
   "source": [
    "daily_pints_log = {1,23,5,4,6,7,1,2,3,4,5,6}\n",
    "\n",
    "print(daily_pints_log)"
   ]
  },
  {
   "cell_type": "code",
   "execution_count": 46,
   "id": "6cccb52b-f048-444e-b9c7-82edfe351bf3",
   "metadata": {},
   "outputs": [],
   "source": [
    "man_daily_pints_log ={1,3,5,7,3,24,5,7,3,2,0}"
   ]
  },
  {
   "cell_type": "code",
   "execution_count": 47,
   "id": "b9957b41-9615-4312-b37e-882e279a9434",
   "metadata": {},
   "outputs": [
    {
     "name": "stdout",
     "output_type": "stream",
     "text": [
      "{0, 1, 2, 3, 4, 5, 6, 7, 23, 24}\n"
     ]
    }
   ],
   "source": [
    "print(daily_pints_log | man_daily_pints_log )"
   ]
  },
  {
   "cell_type": "code",
   "execution_count": 48,
   "id": "82375dd9-d943-4ebb-91ee-ea9f3fd22310",
   "metadata": {},
   "outputs": [
    {
     "name": "stdout",
     "output_type": "stream",
     "text": [
      "{1, 2, 3, 5, 7}\n"
     ]
    }
   ],
   "source": [
    "print(daily_pints_log & man_daily_pints_log )"
   ]
  },
  {
   "cell_type": "code",
   "execution_count": 49,
   "id": "4e309632-f382-4d77-9e7d-a202f14b58e9",
   "metadata": {},
   "outputs": [
    {
     "name": "stdout",
     "output_type": "stream",
     "text": [
      "{4, 6, 23}\n"
     ]
    }
   ],
   "source": [
    "print(daily_pints_log - man_daily_pints_log )"
   ]
  },
  {
   "cell_type": "code",
   "execution_count": 50,
   "id": "89b20f5f-bb24-43a0-8aca-ebe12875aa3e",
   "metadata": {},
   "outputs": [
    {
     "name": "stdout",
     "output_type": "stream",
     "text": [
      "{0, 24}\n"
     ]
    }
   ],
   "source": [
    "print(man_daily_pints_log - daily_pints_log )"
   ]
  },
  {
   "cell_type": "code",
   "execution_count": 51,
   "id": "42e8a007-5074-48c4-942a-af6edbdbb152",
   "metadata": {},
   "outputs": [
    {
     "name": "stdout",
     "output_type": "stream",
     "text": [
      "{0, 4, 6, 23, 24}\n"
     ]
    }
   ],
   "source": [
    "print(man_daily_pints_log ^ daily_pints_log )"
   ]
  },
  {
   "cell_type": "code",
   "execution_count": 52,
   "id": "7dd490a6-3d6c-4188-af47-1c82cbeb72fb",
   "metadata": {},
   "outputs": [],
   "source": [
    "# dictionaries\n",
    "#key/value pair\n",
    "\n",
    "\n",
    "dict_cream ={'name':'Ahmed Mo','weekly intake':5, 'fave ice cream': ['mango','coconut']}\n"
   ]
  },
  {
   "cell_type": "code",
   "execution_count": 53,
   "id": "65aacf90-3390-49e3-8c7c-d8a67b666fa4",
   "metadata": {},
   "outputs": [
    {
     "data": {
      "text/plain": [
       "dict"
      ]
     },
     "execution_count": 53,
     "metadata": {},
     "output_type": "execute_result"
    }
   ],
   "source": [
    "type(dict_cream)"
   ]
  },
  {
   "cell_type": "code",
   "execution_count": 54,
   "id": "a4b2d409-65c5-4b62-a45a-8bac6f4da341",
   "metadata": {},
   "outputs": [
    {
     "name": "stdout",
     "output_type": "stream",
     "text": [
      "{'name': 'Ahmed Mo', 'weekly intake': 5, 'fave ice cream': ['mango', 'coconut']}\n"
     ]
    }
   ],
   "source": [
    "print(dict_cream)"
   ]
  },
  {
   "cell_type": "code",
   "execution_count": 55,
   "id": "f32ca765-0429-4799-8e4e-18d61fda7fbe",
   "metadata": {},
   "outputs": [
    {
     "data": {
      "text/plain": [
       "dict_values(['Ahmed Mo', 5, ['mango', 'coconut']])"
      ]
     },
     "execution_count": 55,
     "metadata": {},
     "output_type": "execute_result"
    }
   ],
   "source": [
    "dict_cream.values()"
   ]
  },
  {
   "cell_type": "code",
   "execution_count": 56,
   "id": "f9551a57-947f-43cb-a69c-aa2d57700ebc",
   "metadata": {},
   "outputs": [
    {
     "data": {
      "text/plain": [
       "dict_keys(['name', 'weekly intake', 'fave ice cream'])"
      ]
     },
     "execution_count": 56,
     "metadata": {},
     "output_type": "execute_result"
    }
   ],
   "source": [
    "dict_cream.keys()"
   ]
  },
  {
   "cell_type": "code",
   "execution_count": 57,
   "id": "b3aa0201-ddd7-44d9-85e4-3079f7c5dcaf",
   "metadata": {},
   "outputs": [
    {
     "data": {
      "text/plain": [
       "dict_items([('name', 'Ahmed Mo'), ('weekly intake', 5), ('fave ice cream', ['mango', 'coconut'])])"
      ]
     },
     "execution_count": 57,
     "metadata": {},
     "output_type": "execute_result"
    }
   ],
   "source": [
    "dict_cream.items()"
   ]
  },
  {
   "cell_type": "code",
   "execution_count": null,
   "id": "fcc438fb-43d2-4f2c-a912-a3345aa70e38",
   "metadata": {},
   "outputs": [],
   "source": []
  },
  {
   "cell_type": "code",
   "execution_count": null,
   "id": "b39be1e3-3970-4434-ba18-93529ae65e30",
   "metadata": {},
   "outputs": [],
   "source": []
  },
  {
   "cell_type": "code",
   "execution_count": null,
   "id": "6d803e44-1762-4d95-a00c-dfeb4717ae9e",
   "metadata": {},
   "outputs": [],
   "source": []
  },
  {
   "cell_type": "code",
   "execution_count": null,
   "id": "40108086-5125-4822-ba3e-3fbe6b4e8f73",
   "metadata": {},
   "outputs": [],
   "source": []
  },
  {
   "cell_type": "code",
   "execution_count": null,
   "id": "758591e7-1947-42fc-910b-3c76e813affb",
   "metadata": {},
   "outputs": [],
   "source": []
  },
  {
   "cell_type": "code",
   "execution_count": null,
   "id": "aa3b6586-d227-4028-95f8-0d1e3eeb4869",
   "metadata": {},
   "outputs": [],
   "source": []
  },
  {
   "cell_type": "code",
   "execution_count": null,
   "id": "20bfe0e0-6fc0-4db2-89bd-8e103972c0af",
   "metadata": {},
   "outputs": [],
   "source": []
  }
 ],
 "metadata": {
  "kernelspec": {
   "display_name": "Python 3 (ipykernel)",
   "language": "python",
   "name": "python3"
  },
  "language_info": {
   "codemirror_mode": {
    "name": "ipython",
    "version": 3
   },
   "file_extension": ".py",
   "mimetype": "text/x-python",
   "name": "python",
   "nbconvert_exporter": "python",
   "pygments_lexer": "ipython3",
   "version": "3.11.7"
  }
 },
 "nbformat": 4,
 "nbformat_minor": 5
}
