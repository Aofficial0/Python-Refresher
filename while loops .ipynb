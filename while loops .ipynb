{
 "cells": [
  {
   "cell_type": "markdown",
   "id": "cf7e90f2-8f00-4d9b-831b-ca7948c0a4ce",
   "metadata": {},
   "source": [
    "# while loops "
   ]
  },
  {
   "cell_type": "code",
   "execution_count": 1,
   "id": "b45ed61e-fb5d-481a-9b33-9c9f8e7940da",
   "metadata": {},
   "outputs": [
    {
     "name": "stdout",
     "output_type": "stream",
     "text": [
      "0\n",
      "1\n",
      "2\n",
      "3\n",
      "4\n"
     ]
    }
   ],
   "source": [
    "number = 0\n",
    "\n",
    "while number < 5 :\n",
    "    print(number)\n",
    "    number = number + 1 "
   ]
  },
  {
   "cell_type": "code",
   "execution_count": 4,
   "id": "5dda4519-6c1e-41a6-b2ea-3faa1da862a5",
   "metadata": {},
   "outputs": [
    {
     "name": "stdout",
     "output_type": "stream",
     "text": [
      "0\n",
      "1\n",
      "2\n",
      "3\n"
     ]
    }
   ],
   "source": [
    "number = 0\n",
    "\n",
    "while number < 5 :\n",
    "    print(number)\n",
    "    if number == 3:\n",
    "        break\n",
    "    number = number + 1 "
   ]
  },
  {
   "cell_type": "code",
   "execution_count": null,
   "id": "0f21c551-f931-4591-a96a-1d8d73fea1aa",
   "metadata": {},
   "outputs": [],
   "source": []
  },
  {
   "cell_type": "code",
   "execution_count": 5,
   "id": "ba9d89d1-6c7e-4566-a6ad-33dae63776a4",
   "metadata": {},
   "outputs": [
    {
     "name": "stdout",
     "output_type": "stream",
     "text": [
      "0\n",
      "1\n",
      "2\n",
      "3\n",
      "4\n",
      "no longer < 5\n"
     ]
    }
   ],
   "source": [
    "number = 0\n",
    "\n",
    "while number < 5 :\n",
    "    print(number)\n",
    "    if number == 6:\n",
    "        break\n",
    "    number = number + 1 \n",
    "else: \n",
    "    print('no longer < 5')"
   ]
  },
  {
   "cell_type": "code",
   "execution_count": null,
   "id": "faf7f95b-5f71-4e2b-b4e5-03171d716cab",
   "metadata": {},
   "outputs": [],
   "source": []
  },
  {
   "cell_type": "code",
   "execution_count": 10,
   "id": "20c39ece-0174-428b-a28d-20f0bad46609",
   "metadata": {},
   "outputs": [
    {
     "name": "stdout",
     "output_type": "stream",
     "text": [
      "1\n",
      "2\n",
      "3\n",
      "4\n",
      "5\n",
      "no longer < 5\n"
     ]
    }
   ],
   "source": [
    "number = 0\n",
    "\n",
    "while number < 5 :\n",
    "    number = number + 1\n",
    "    print(number)\n",
    "    if number == 3:\n",
    "        continue\n",
    "    \n",
    "else: \n",
    "    print('no longer < 5')"
   ]
  },
  {
   "cell_type": "code",
   "execution_count": null,
   "id": "3a1d50fc-8c70-4994-a2bb-5d9a9b4053df",
   "metadata": {},
   "outputs": [],
   "source": []
  },
  {
   "cell_type": "code",
   "execution_count": null,
   "id": "efe7f308-272e-4e23-8d9d-99af27483158",
   "metadata": {},
   "outputs": [],
   "source": []
  },
  {
   "cell_type": "code",
   "execution_count": null,
   "id": "59c7eb9a-664d-49ce-8e66-8e9c4efeb6fd",
   "metadata": {},
   "outputs": [],
   "source": []
  },
  {
   "cell_type": "code",
   "execution_count": null,
   "id": "895faf7d-8eb5-4082-96c0-5efb381a880a",
   "metadata": {},
   "outputs": [],
   "source": []
  },
  {
   "cell_type": "code",
   "execution_count": null,
   "id": "90a58392-eaca-47cf-ae6b-f500f2b90f46",
   "metadata": {},
   "outputs": [],
   "source": []
  }
 ],
 "metadata": {
  "kernelspec": {
   "display_name": "Python 3 (ipykernel)",
   "language": "python",
   "name": "python3"
  },
  "language_info": {
   "codemirror_mode": {
    "name": "ipython",
    "version": 3
   },
   "file_extension": ".py",
   "mimetype": "text/x-python",
   "name": "python",
   "nbconvert_exporter": "python",
   "pygments_lexer": "ipython3",
   "version": "3.11.7"
  }
 },
 "nbformat": 4,
 "nbformat_minor": 5
}
